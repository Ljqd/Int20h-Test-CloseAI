{
 "cells": [
  {
   "cell_type": "code",
   "execution_count": 1,
   "id": "94ae5039",
   "metadata": {
    "id": "94ae5039"
   },
   "outputs": [],
   "source": [
    "import numpy as np\n",
    "import pandas as pd\n",
    "import json\n",
    "import matplotlib.pyplot as plt\n",
    "import seaborn as sns\n",
    "from statistics import mode\n",
    "from scipy.stats import pearsonr"
   ]
  },
  {
   "cell_type": "code",
   "execution_count": 2,
   "id": "e8de44ed",
   "metadata": {
    "id": "e8de44ed"
   },
   "outputs": [],
   "source": [
    "path = 'C:\\\\Users\\\\Asus\\\\Desktop'\n",
    "data = pd.read_csv(f'{path}\\\\int20h-ds-test-dataset.csv')"
   ]
  },
  {
   "cell_type": "code",
   "execution_count": 3,
   "id": "ac227ce2",
   "metadata": {
    "id": "ac227ce2",
    "outputId": "7ecf67f7-e73f-48a4-813b-5a2af23b189d"
   },
   "outputs": [
    {
     "data": {
      "text/html": [
       "<div>\n",
       "<style scoped>\n",
       "    .dataframe tbody tr th:only-of-type {\n",
       "        vertical-align: middle;\n",
       "    }\n",
       "\n",
       "    .dataframe tbody tr th {\n",
       "        vertical-align: top;\n",
       "    }\n",
       "\n",
       "    .dataframe thead th {\n",
       "        text-align: right;\n",
       "    }\n",
       "</style>\n",
       "<table border=\"1\" class=\"dataframe\">\n",
       "  <thead>\n",
       "    <tr style=\"text-align: right;\">\n",
       "      <th></th>\n",
       "      <th>userid</th>\n",
       "      <th>user_state</th>\n",
       "      <th>event_name</th>\n",
       "      <th>event_attributes</th>\n",
       "      <th>event_created_date</th>\n",
       "      <th>event_platform</th>\n",
       "      <th>device_manufacture</th>\n",
       "      <th>device_model</th>\n",
       "    </tr>\n",
       "  </thead>\n",
       "  <tbody>\n",
       "    <tr>\n",
       "      <th>0</th>\n",
       "      <td>c95c777785faec8dd910d019d7278ebe</td>\n",
       "      <td>CA</td>\n",
       "      <td>Add Vehicle Success</td>\n",
       "      <td>{\"Make\":\"Dodge\",\"Model\":\"Caravan\",\"Color\":\"Whi...</td>\n",
       "      <td>2022-01-16 17:03:04</td>\n",
       "      <td>android</td>\n",
       "      <td>samsung</td>\n",
       "      <td>SM-N975U</td>\n",
       "    </tr>\n",
       "    <tr>\n",
       "      <th>1</th>\n",
       "      <td>c95c777785faec8dd910d019d7278ebe</td>\n",
       "      <td>CA</td>\n",
       "      <td>Add Vehicle Break</td>\n",
       "      <td>{}</td>\n",
       "      <td>2022-01-16 17:07:47</td>\n",
       "      <td>android</td>\n",
       "      <td>samsung</td>\n",
       "      <td>SM-N975U</td>\n",
       "    </tr>\n",
       "    <tr>\n",
       "      <th>2</th>\n",
       "      <td>f344be2d9a042b7444f3cc5279e38ef1</td>\n",
       "      <td>FL</td>\n",
       "      <td>Calculator View</td>\n",
       "      <td>{}</td>\n",
       "      <td>2022-01-16 17:16:25</td>\n",
       "      <td>android</td>\n",
       "      <td>samsung</td>\n",
       "      <td>SM-G973U1</td>\n",
       "    </tr>\n",
       "    <tr>\n",
       "      <th>3</th>\n",
       "      <td>c95c777785faec8dd910d019d7278ebe</td>\n",
       "      <td>CA</td>\n",
       "      <td>Add Payment Method Success</td>\n",
       "      <td>{\"Payment Method\":\"Credit\",\"Tokenized Pay\":\"\"}</td>\n",
       "      <td>2022-01-16 17:24:22</td>\n",
       "      <td>android</td>\n",
       "      <td>samsung</td>\n",
       "      <td>SM-N975U</td>\n",
       "    </tr>\n",
       "    <tr>\n",
       "      <th>4</th>\n",
       "      <td>e331ed81422d8fba55520a43a872e701</td>\n",
       "      <td>IL</td>\n",
       "      <td>Sign Up Success</td>\n",
       "      <td>{\"Method\":\"Apple\"}</td>\n",
       "      <td>2022-01-16 17:34:51</td>\n",
       "      <td>ios</td>\n",
       "      <td>Apple</td>\n",
       "      <td>iPhone12,1</td>\n",
       "    </tr>\n",
       "  </tbody>\n",
       "</table>\n",
       "</div>"
      ],
      "text/plain": [
       "                             userid user_state                  event_name  \\\n",
       "0  c95c777785faec8dd910d019d7278ebe         CA         Add Vehicle Success   \n",
       "1  c95c777785faec8dd910d019d7278ebe         CA           Add Vehicle Break   \n",
       "2  f344be2d9a042b7444f3cc5279e38ef1         FL             Calculator View   \n",
       "3  c95c777785faec8dd910d019d7278ebe         CA  Add Payment Method Success   \n",
       "4  e331ed81422d8fba55520a43a872e701         IL             Sign Up Success   \n",
       "\n",
       "                                    event_attributes   event_created_date  \\\n",
       "0  {\"Make\":\"Dodge\",\"Model\":\"Caravan\",\"Color\":\"Whi...  2022-01-16 17:03:04   \n",
       "1                                                 {}  2022-01-16 17:07:47   \n",
       "2                                                 {}  2022-01-16 17:16:25   \n",
       "3     {\"Payment Method\":\"Credit\",\"Tokenized Pay\":\"\"}  2022-01-16 17:24:22   \n",
       "4                                 {\"Method\":\"Apple\"}  2022-01-16 17:34:51   \n",
       "\n",
       "  event_platform device_manufacture device_model  \n",
       "0        android            samsung     SM-N975U  \n",
       "1        android            samsung     SM-N975U  \n",
       "2        android            samsung    SM-G973U1  \n",
       "3        android            samsung     SM-N975U  \n",
       "4            ios              Apple   iPhone12,1  "
      ]
     },
     "execution_count": 3,
     "metadata": {},
     "output_type": "execute_result"
    }
   ],
   "source": [
    "data.head()"
   ]
  },
  {
   "cell_type": "markdown",
   "id": "f8a3dba5",
   "metadata": {
    "id": "f8a3dba5"
   },
   "source": [
    "Since our data is a sequence of events for many users, we will sort them chronologically"
   ]
  },
  {
   "cell_type": "code",
   "execution_count": 4,
   "id": "fca5f2e5",
   "metadata": {
    "id": "fca5f2e5"
   },
   "outputs": [],
   "source": [
    "data['event_created_date'] = pd.to_datetime(data['event_created_date'])\n",
    "data.sort_values('event_created_date', inplace=True)"
   ]
  },
  {
   "cell_type": "code",
   "execution_count": 5,
   "id": "e3a8d58b",
   "metadata": {
    "id": "e3a8d58b",
    "outputId": "9a0f42bf-4ba1-4cb6-91b0-0d7461bc2c0d"
   },
   "outputs": [
    {
     "name": "stdout",
     "output_type": "stream",
     "text": [
      "There is 23357 rows and 1318 duplicates\n"
     ]
    }
   ],
   "source": [
    "print(f'There is {data.shape[0]} rows and {data.duplicated().sum()} duplicates')"
   ]
  },
  {
   "cell_type": "code",
   "execution_count": 6,
   "id": "77d9ae65",
   "metadata": {
    "id": "77d9ae65"
   },
   "outputs": [],
   "source": [
    "# remove duplicates\n",
    "data = data.drop_duplicates()"
   ]
  },
  {
   "cell_type": "code",
   "execution_count": 7,
   "id": "eccd8386",
   "metadata": {
    "id": "eccd8386",
    "outputId": "4ccf688c-1119-495e-c0aa-1dd7650c7b75"
   },
   "outputs": [
    {
     "data": {
      "text/plain": [
       "userid                   0\n",
       "user_state              71\n",
       "event_name               0\n",
       "event_attributes         0\n",
       "event_created_date       0\n",
       "event_platform           0\n",
       "device_manufacture    6230\n",
       "device_model          6230\n",
       "dtype: int64"
      ]
     },
     "execution_count": 7,
     "metadata": {},
     "output_type": "execute_result"
    }
   ],
   "source": [
    "# check how many NaNs is in data\n",
    "data.isna().sum()"
   ]
  },
  {
   "cell_type": "markdown",
   "id": "0730d037",
   "metadata": {
    "id": "0730d037"
   },
   "source": [
    "# At first, let's analyse, how events are related to cancelling subscription"
   ]
  },
  {
   "cell_type": "markdown",
   "id": "d392a0f4",
   "metadata": {
    "id": "d392a0f4"
   },
   "source": [
    "Let's take a look at all events and their frequencies"
   ]
  },
  {
   "cell_type": "code",
   "execution_count": 8,
   "id": "502ef060",
   "metadata": {
    "id": "502ef060",
    "outputId": "7aaa4b13-e9e5-42ab-ae18-86d69de282ed"
   },
   "outputs": [
    {
     "data": {
      "text/plain": [
       "Order                                  4845\n",
       "Sign Up Success                        3329\n",
       "Add Vehicle Success                    1923\n",
       "Account History Transaction Details    1607\n",
       "Chat Conversation Opened               1485\n",
       "Wallet Opened                          1471\n",
       "Chat Conversation Started              1201\n",
       "Add Payment Method Success             1038\n",
       "Email Confirmation Success              832\n",
       "Subscription Premium                    711\n",
       "Calculator View                         620\n",
       "Sign Out                                595\n",
       "Account Setup Profile Skip              498\n",
       "Add Vehicle Break                       486\n",
       "Add Payment Method Failed               334\n",
       "Subscription Premium Renew              310\n",
       "Subscription Premium Cancel             262\n",
       "Account Setup Skip                      222\n",
       "Calculator Used                         120\n",
       "Transaction Refund                      102\n",
       "Sign Up Error                            26\n",
       "Add Vehicle Failed                       21\n",
       "Reset Password Set                        1\n",
       "Name: event_name, dtype: int64"
      ]
     },
     "execution_count": 8,
     "metadata": {},
     "output_type": "execute_result"
    }
   ],
   "source": [
    "data['event_name'].value_counts()"
   ]
  },
  {
   "cell_type": "markdown",
   "id": "3e1068af",
   "metadata": {
    "id": "3e1068af"
   },
   "source": [
    "Since the last three events seem not very useful and appear very rarely, we remove them"
   ]
  },
  {
   "cell_type": "code",
   "execution_count": 9,
   "id": "82887ec9",
   "metadata": {
    "id": "82887ec9"
   },
   "outputs": [],
   "source": [
    "data = data[~data['event_name'].isin(['Sign Up Error', 'Add Vehicle Failed', 'Reset Password Set'])]"
   ]
  },
  {
   "cell_type": "markdown",
   "id": "7859832a",
   "metadata": {
    "id": "7859832a"
   },
   "source": [
    "Now we want to know, how $\\textit{Subscription Premium}$  and $\\textit{Subscription Premium Renew}$ events are related to $\\textit{Subscription Cancel}$ "
   ]
  },
  {
   "cell_type": "markdown",
   "id": "d0279eac",
   "metadata": {
    "id": "d0279eac"
   },
   "source": [
    "We create a dataframe: rows - all users, columns - events from the list above. Value for a cell in a position (user, event) in the dataframe is equal to 1 if this event has been fired for this user and 0 otherwise."
   ]
  },
  {
   "cell_type": "code",
   "execution_count": 10,
   "id": "22d73c08",
   "metadata": {
    "id": "22d73c08"
   },
   "outputs": [],
   "source": [
    "# list with all user ids\n",
    "ids = list(data['userid'].unique())\n",
    "events = ['Subscription Premium', 'Subscription Premium Renew', 'Subscription Premium Cancel']\n",
    "user_info = pd.DataFrame(data=np.zeros((len(ids), len(events))), index=ids, columns=events, dtype='int16')\n",
    "for id in ids:\n",
    "    event_sequence = list(data[data['userid'] == id]['event_name'])\n",
    "    # we only take a time series before the subscription cancel event\n",
    "    if 'Subscription Premium Cancel' in event_sequence:\n",
    "        event_sequence = event_sequence[:event_sequence.index('Subscription Premium Cancel') + 1]\n",
    "    for event in events:\n",
    "        user_info.loc[id, event] = int(event in event_sequence)"
   ]
  },
  {
   "cell_type": "code",
   "execution_count": 11,
   "id": "2484fa4a",
   "metadata": {
    "id": "2484fa4a",
    "outputId": "332578a4-9725-44fb-d524-42e23d10d612"
   },
   "outputs": [
    {
     "data": {
      "text/html": [
       "<div>\n",
       "<style scoped>\n",
       "    .dataframe tbody tr th:only-of-type {\n",
       "        vertical-align: middle;\n",
       "    }\n",
       "\n",
       "    .dataframe tbody tr th {\n",
       "        vertical-align: top;\n",
       "    }\n",
       "\n",
       "    .dataframe thead th {\n",
       "        text-align: right;\n",
       "    }\n",
       "</style>\n",
       "<table border=\"1\" class=\"dataframe\">\n",
       "  <thead>\n",
       "    <tr style=\"text-align: right;\">\n",
       "      <th></th>\n",
       "      <th>Subscription Premium</th>\n",
       "      <th>Subscription Premium Renew</th>\n",
       "      <th>Subscription Premium Cancel</th>\n",
       "    </tr>\n",
       "  </thead>\n",
       "  <tbody>\n",
       "    <tr>\n",
       "      <th>50b02ade5133cc6c9da2573f5deb489e</th>\n",
       "      <td>0</td>\n",
       "      <td>0</td>\n",
       "      <td>0</td>\n",
       "    </tr>\n",
       "    <tr>\n",
       "      <th>779f1b3e348e1483627bc2010659920f</th>\n",
       "      <td>0</td>\n",
       "      <td>0</td>\n",
       "      <td>0</td>\n",
       "    </tr>\n",
       "    <tr>\n",
       "      <th>1ff8d11406caf7fa1a6280814860d526</th>\n",
       "      <td>0</td>\n",
       "      <td>0</td>\n",
       "      <td>0</td>\n",
       "    </tr>\n",
       "    <tr>\n",
       "      <th>c8d4d395f6b45f1ddd6ab9f29180f54a</th>\n",
       "      <td>0</td>\n",
       "      <td>1</td>\n",
       "      <td>0</td>\n",
       "    </tr>\n",
       "    <tr>\n",
       "      <th>18513686d0892dc983474752ca549f4c</th>\n",
       "      <td>0</td>\n",
       "      <td>0</td>\n",
       "      <td>0</td>\n",
       "    </tr>\n",
       "    <tr>\n",
       "      <th>...</th>\n",
       "      <td>...</td>\n",
       "      <td>...</td>\n",
       "      <td>...</td>\n",
       "    </tr>\n",
       "    <tr>\n",
       "      <th>d2c8e9fd8addde95536d13f61cbfb1cc</th>\n",
       "      <td>1</td>\n",
       "      <td>0</td>\n",
       "      <td>0</td>\n",
       "    </tr>\n",
       "    <tr>\n",
       "      <th>387c88f25e204376acf003420663fef5</th>\n",
       "      <td>1</td>\n",
       "      <td>0</td>\n",
       "      <td>1</td>\n",
       "    </tr>\n",
       "    <tr>\n",
       "      <th>6ebd67ba68c521c86d797a1c439d6de9</th>\n",
       "      <td>1</td>\n",
       "      <td>0</td>\n",
       "      <td>0</td>\n",
       "    </tr>\n",
       "    <tr>\n",
       "      <th>833489856a3cc8840d47a2c1cadda36d</th>\n",
       "      <td>1</td>\n",
       "      <td>0</td>\n",
       "      <td>0</td>\n",
       "    </tr>\n",
       "    <tr>\n",
       "      <th>679eba26c4e75e0afb178360becfa21b</th>\n",
       "      <td>1</td>\n",
       "      <td>0</td>\n",
       "      <td>0</td>\n",
       "    </tr>\n",
       "  </tbody>\n",
       "</table>\n",
       "<p>3539 rows × 3 columns</p>\n",
       "</div>"
      ],
      "text/plain": [
       "                                  Subscription Premium  \\\n",
       "50b02ade5133cc6c9da2573f5deb489e                     0   \n",
       "779f1b3e348e1483627bc2010659920f                     0   \n",
       "1ff8d11406caf7fa1a6280814860d526                     0   \n",
       "c8d4d395f6b45f1ddd6ab9f29180f54a                     0   \n",
       "18513686d0892dc983474752ca549f4c                     0   \n",
       "...                                                ...   \n",
       "d2c8e9fd8addde95536d13f61cbfb1cc                     1   \n",
       "387c88f25e204376acf003420663fef5                     1   \n",
       "6ebd67ba68c521c86d797a1c439d6de9                     1   \n",
       "833489856a3cc8840d47a2c1cadda36d                     1   \n",
       "679eba26c4e75e0afb178360becfa21b                     1   \n",
       "\n",
       "                                  Subscription Premium Renew  \\\n",
       "50b02ade5133cc6c9da2573f5deb489e                           0   \n",
       "779f1b3e348e1483627bc2010659920f                           0   \n",
       "1ff8d11406caf7fa1a6280814860d526                           0   \n",
       "c8d4d395f6b45f1ddd6ab9f29180f54a                           1   \n",
       "18513686d0892dc983474752ca549f4c                           0   \n",
       "...                                                      ...   \n",
       "d2c8e9fd8addde95536d13f61cbfb1cc                           0   \n",
       "387c88f25e204376acf003420663fef5                           0   \n",
       "6ebd67ba68c521c86d797a1c439d6de9                           0   \n",
       "833489856a3cc8840d47a2c1cadda36d                           0   \n",
       "679eba26c4e75e0afb178360becfa21b                           0   \n",
       "\n",
       "                                  Subscription Premium Cancel  \n",
       "50b02ade5133cc6c9da2573f5deb489e                            0  \n",
       "779f1b3e348e1483627bc2010659920f                            0  \n",
       "1ff8d11406caf7fa1a6280814860d526                            0  \n",
       "c8d4d395f6b45f1ddd6ab9f29180f54a                            0  \n",
       "18513686d0892dc983474752ca549f4c                            0  \n",
       "...                                                       ...  \n",
       "d2c8e9fd8addde95536d13f61cbfb1cc                            0  \n",
       "387c88f25e204376acf003420663fef5                            1  \n",
       "6ebd67ba68c521c86d797a1c439d6de9                            0  \n",
       "833489856a3cc8840d47a2c1cadda36d                            0  \n",
       "679eba26c4e75e0afb178360becfa21b                            0  \n",
       "\n",
       "[3539 rows x 3 columns]"
      ]
     },
     "execution_count": 11,
     "metadata": {},
     "output_type": "execute_result"
    }
   ],
   "source": [
    "user_info"
   ]
  },
  {
   "cell_type": "markdown",
   "id": "b9f9c891",
   "metadata": {
    "id": "b9f9c891"
   },
   "source": [
    "Let's take a look at the users who don't have $\\textit{Subscription Premium}$ and $\\textit{Subscription Premium Renew}$ events:"
   ]
  },
  {
   "cell_type": "code",
   "execution_count": 12,
   "id": "9adca59a",
   "metadata": {
    "id": "9adca59a",
    "outputId": "cb1803e5-2a8f-412c-e973-10057eac4160"
   },
   "outputs": [
    {
     "data": {
      "text/plain": [
       "0    2745\n",
       "1      18\n",
       "Name: Subscription Premium Cancel, dtype: int64"
      ]
     },
     "execution_count": 12,
     "metadata": {},
     "output_type": "execute_result"
    }
   ],
   "source": [
    "user_info[(user_info['Subscription Premium'] == 0) & (user_info['Subscription Premium Renew'] == 0)]['Subscription Premium Cancel'].value_counts()"
   ]
  },
  {
   "cell_type": "markdown",
   "id": "48e84d49",
   "metadata": {
    "id": "48e84d49"
   },
   "source": [
    "Evidently, almost all of those users don't cancel subscriptions, probably, because they don't even have one.\n",
    "Now we will analyze only those users, who have $\\textit{Subscription Premium}$ or $\\textit{Subscription Premium Renew}$ event"
   ]
  },
  {
   "cell_type": "code",
   "execution_count": 13,
   "id": "aa666b1f",
   "metadata": {
    "id": "aa666b1f",
    "outputId": "f07d61fd-4a9d-4636-f164-0229a971992d"
   },
   "outputs": [
    {
     "name": "stdout",
     "output_type": "stream",
     "text": [
      "There was 3539 ids, remains only 776 of them\n"
     ]
    }
   ],
   "source": [
    "new_ids = list(user_info[(user_info['Subscription Premium'] == 1) | (user_info['Subscription Premium Renew'] == 1)].index)\n",
    "print(f'There was {len(ids)} ids, remains only {len(new_ids)} of them')\n",
    "ids = new_ids"
   ]
  },
  {
   "cell_type": "markdown",
   "id": "d2bfbe75",
   "metadata": {
    "id": "d2bfbe75"
   },
   "source": [
    "For each id and each event we will calculate the number of occurrences of this event in a sequence, then calculate the correlation between these features and the target (target = 1 if the user canceled the subscription, otherwise 0)"
   ]
  },
  {
   "cell_type": "code",
   "execution_count": 14,
   "id": "9ace0f51",
   "metadata": {
    "id": "9ace0f51"
   },
   "outputs": [],
   "source": [
    "events = [event for event in list(data['event_name'].unique()) if event != 'Subscription Premium Cancel']\n",
    "user_info = pd.DataFrame(data=np.zeros((len(ids), len(events) + 1)), index=ids, columns=events + ['target'], dtype='int16')\n",
    "for id in ids:\n",
    "    event_sequence = list(data[data['userid'] == id]['event_name'])\n",
    "    # we only take a time series before the subscription cancelation event\n",
    "    if 'Subscription Premium Cancel' in event_sequence:\n",
    "        event_sequence = event_sequence[:event_sequence.index('Subscription Premium Cancel') + 1]\n",
    "        user_info.loc[id, 'target'] = 1\n",
    "    for event in events:\n",
    "        user_info.loc[id, event] = event_sequence.count(event)"
   ]
  },
  {
   "cell_type": "code",
   "execution_count": null,
   "id": "303faada",
   "metadata": {
    "id": "303faada"
   },
   "outputs": [],
   "source": []
  },
  {
   "cell_type": "code",
   "execution_count": 15,
   "id": "0b4cbe29",
   "metadata": {
    "id": "0b4cbe29",
    "outputId": "a7b57c2a-174d-430b-9459-5efd47685d89"
   },
   "outputs": [
    {
     "data": {
      "text/html": [
       "<div>\n",
       "<style scoped>\n",
       "    .dataframe tbody tr th:only-of-type {\n",
       "        vertical-align: middle;\n",
       "    }\n",
       "\n",
       "    .dataframe tbody tr th {\n",
       "        vertical-align: top;\n",
       "    }\n",
       "\n",
       "    .dataframe thead th {\n",
       "        text-align: right;\n",
       "    }\n",
       "</style>\n",
       "<table border=\"1\" class=\"dataframe\">\n",
       "  <thead>\n",
       "    <tr style=\"text-align: right;\">\n",
       "      <th></th>\n",
       "      <th>Wallet Opened</th>\n",
       "      <th>Sign Up Success</th>\n",
       "      <th>Add Vehicle Success</th>\n",
       "      <th>Account Setup Profile Skip</th>\n",
       "      <th>Email Confirmation Success</th>\n",
       "      <th>Account History Transaction Details</th>\n",
       "      <th>Sign Out</th>\n",
       "      <th>Add Vehicle Break</th>\n",
       "      <th>Chat Conversation Started</th>\n",
       "      <th>Chat Conversation Opened</th>\n",
       "      <th>Order</th>\n",
       "      <th>Add Payment Method Success</th>\n",
       "      <th>Subscription Premium</th>\n",
       "      <th>Calculator View</th>\n",
       "      <th>Account Setup Skip</th>\n",
       "      <th>Add Payment Method Failed</th>\n",
       "      <th>Transaction Refund</th>\n",
       "      <th>Calculator Used</th>\n",
       "      <th>Subscription Premium Renew</th>\n",
       "      <th>target</th>\n",
       "    </tr>\n",
       "  </thead>\n",
       "  <tbody>\n",
       "    <tr>\n",
       "      <th>c8d4d395f6b45f1ddd6ab9f29180f54a</th>\n",
       "      <td>0</td>\n",
       "      <td>0</td>\n",
       "      <td>0</td>\n",
       "      <td>0</td>\n",
       "      <td>0</td>\n",
       "      <td>3</td>\n",
       "      <td>1</td>\n",
       "      <td>0</td>\n",
       "      <td>0</td>\n",
       "      <td>0</td>\n",
       "      <td>38</td>\n",
       "      <td>0</td>\n",
       "      <td>0</td>\n",
       "      <td>0</td>\n",
       "      <td>0</td>\n",
       "      <td>0</td>\n",
       "      <td>0</td>\n",
       "      <td>0</td>\n",
       "      <td>1</td>\n",
       "      <td>0</td>\n",
       "    </tr>\n",
       "    <tr>\n",
       "      <th>2467ce8593dd0efe1ce5d4b82263bc5c</th>\n",
       "      <td>0</td>\n",
       "      <td>0</td>\n",
       "      <td>3</td>\n",
       "      <td>0</td>\n",
       "      <td>0</td>\n",
       "      <td>0</td>\n",
       "      <td>1</td>\n",
       "      <td>0</td>\n",
       "      <td>0</td>\n",
       "      <td>0</td>\n",
       "      <td>5</td>\n",
       "      <td>1</td>\n",
       "      <td>1</td>\n",
       "      <td>0</td>\n",
       "      <td>0</td>\n",
       "      <td>0</td>\n",
       "      <td>0</td>\n",
       "      <td>0</td>\n",
       "      <td>0</td>\n",
       "      <td>0</td>\n",
       "    </tr>\n",
       "    <tr>\n",
       "      <th>a22abda7a39d747ab674cd13224b375a</th>\n",
       "      <td>3</td>\n",
       "      <td>1</td>\n",
       "      <td>1</td>\n",
       "      <td>2</td>\n",
       "      <td>0</td>\n",
       "      <td>9</td>\n",
       "      <td>0</td>\n",
       "      <td>0</td>\n",
       "      <td>0</td>\n",
       "      <td>0</td>\n",
       "      <td>0</td>\n",
       "      <td>1</td>\n",
       "      <td>1</td>\n",
       "      <td>0</td>\n",
       "      <td>0</td>\n",
       "      <td>0</td>\n",
       "      <td>0</td>\n",
       "      <td>0</td>\n",
       "      <td>0</td>\n",
       "      <td>1</td>\n",
       "    </tr>\n",
       "    <tr>\n",
       "      <th>f5988bc8ddb1a5733677d81109fe453b</th>\n",
       "      <td>2</td>\n",
       "      <td>0</td>\n",
       "      <td>0</td>\n",
       "      <td>0</td>\n",
       "      <td>0</td>\n",
       "      <td>0</td>\n",
       "      <td>0</td>\n",
       "      <td>0</td>\n",
       "      <td>0</td>\n",
       "      <td>0</td>\n",
       "      <td>0</td>\n",
       "      <td>0</td>\n",
       "      <td>1</td>\n",
       "      <td>0</td>\n",
       "      <td>0</td>\n",
       "      <td>0</td>\n",
       "      <td>0</td>\n",
       "      <td>0</td>\n",
       "      <td>1</td>\n",
       "      <td>0</td>\n",
       "    </tr>\n",
       "    <tr>\n",
       "      <th>41ef8ce6c7e3ce0869d791dc17a3d161</th>\n",
       "      <td>2</td>\n",
       "      <td>0</td>\n",
       "      <td>0</td>\n",
       "      <td>0</td>\n",
       "      <td>0</td>\n",
       "      <td>3</td>\n",
       "      <td>0</td>\n",
       "      <td>0</td>\n",
       "      <td>1</td>\n",
       "      <td>3</td>\n",
       "      <td>54</td>\n",
       "      <td>0</td>\n",
       "      <td>0</td>\n",
       "      <td>1</td>\n",
       "      <td>0</td>\n",
       "      <td>0</td>\n",
       "      <td>0</td>\n",
       "      <td>0</td>\n",
       "      <td>1</td>\n",
       "      <td>1</td>\n",
       "    </tr>\n",
       "    <tr>\n",
       "      <th>...</th>\n",
       "      <td>...</td>\n",
       "      <td>...</td>\n",
       "      <td>...</td>\n",
       "      <td>...</td>\n",
       "      <td>...</td>\n",
       "      <td>...</td>\n",
       "      <td>...</td>\n",
       "      <td>...</td>\n",
       "      <td>...</td>\n",
       "      <td>...</td>\n",
       "      <td>...</td>\n",
       "      <td>...</td>\n",
       "      <td>...</td>\n",
       "      <td>...</td>\n",
       "      <td>...</td>\n",
       "      <td>...</td>\n",
       "      <td>...</td>\n",
       "      <td>...</td>\n",
       "      <td>...</td>\n",
       "      <td>...</td>\n",
       "    </tr>\n",
       "    <tr>\n",
       "      <th>d2c8e9fd8addde95536d13f61cbfb1cc</th>\n",
       "      <td>0</td>\n",
       "      <td>1</td>\n",
       "      <td>1</td>\n",
       "      <td>0</td>\n",
       "      <td>0</td>\n",
       "      <td>0</td>\n",
       "      <td>0</td>\n",
       "      <td>0</td>\n",
       "      <td>0</td>\n",
       "      <td>0</td>\n",
       "      <td>0</td>\n",
       "      <td>1</td>\n",
       "      <td>1</td>\n",
       "      <td>1</td>\n",
       "      <td>0</td>\n",
       "      <td>0</td>\n",
       "      <td>0</td>\n",
       "      <td>0</td>\n",
       "      <td>0</td>\n",
       "      <td>0</td>\n",
       "    </tr>\n",
       "    <tr>\n",
       "      <th>387c88f25e204376acf003420663fef5</th>\n",
       "      <td>1</td>\n",
       "      <td>1</td>\n",
       "      <td>1</td>\n",
       "      <td>0</td>\n",
       "      <td>0</td>\n",
       "      <td>1</td>\n",
       "      <td>0</td>\n",
       "      <td>0</td>\n",
       "      <td>0</td>\n",
       "      <td>0</td>\n",
       "      <td>0</td>\n",
       "      <td>1</td>\n",
       "      <td>1</td>\n",
       "      <td>0</td>\n",
       "      <td>0</td>\n",
       "      <td>0</td>\n",
       "      <td>0</td>\n",
       "      <td>0</td>\n",
       "      <td>0</td>\n",
       "      <td>1</td>\n",
       "    </tr>\n",
       "    <tr>\n",
       "      <th>6ebd67ba68c521c86d797a1c439d6de9</th>\n",
       "      <td>0</td>\n",
       "      <td>1</td>\n",
       "      <td>1</td>\n",
       "      <td>0</td>\n",
       "      <td>0</td>\n",
       "      <td>0</td>\n",
       "      <td>0</td>\n",
       "      <td>0</td>\n",
       "      <td>0</td>\n",
       "      <td>0</td>\n",
       "      <td>0</td>\n",
       "      <td>1</td>\n",
       "      <td>1</td>\n",
       "      <td>0</td>\n",
       "      <td>0</td>\n",
       "      <td>0</td>\n",
       "      <td>0</td>\n",
       "      <td>0</td>\n",
       "      <td>0</td>\n",
       "      <td>0</td>\n",
       "    </tr>\n",
       "    <tr>\n",
       "      <th>833489856a3cc8840d47a2c1cadda36d</th>\n",
       "      <td>0</td>\n",
       "      <td>1</td>\n",
       "      <td>1</td>\n",
       "      <td>0</td>\n",
       "      <td>0</td>\n",
       "      <td>0</td>\n",
       "      <td>0</td>\n",
       "      <td>0</td>\n",
       "      <td>0</td>\n",
       "      <td>0</td>\n",
       "      <td>0</td>\n",
       "      <td>1</td>\n",
       "      <td>1</td>\n",
       "      <td>0</td>\n",
       "      <td>0</td>\n",
       "      <td>0</td>\n",
       "      <td>0</td>\n",
       "      <td>0</td>\n",
       "      <td>0</td>\n",
       "      <td>0</td>\n",
       "    </tr>\n",
       "    <tr>\n",
       "      <th>679eba26c4e75e0afb178360becfa21b</th>\n",
       "      <td>0</td>\n",
       "      <td>1</td>\n",
       "      <td>1</td>\n",
       "      <td>2</td>\n",
       "      <td>0</td>\n",
       "      <td>0</td>\n",
       "      <td>0</td>\n",
       "      <td>0</td>\n",
       "      <td>0</td>\n",
       "      <td>1</td>\n",
       "      <td>0</td>\n",
       "      <td>1</td>\n",
       "      <td>1</td>\n",
       "      <td>0</td>\n",
       "      <td>0</td>\n",
       "      <td>0</td>\n",
       "      <td>0</td>\n",
       "      <td>0</td>\n",
       "      <td>0</td>\n",
       "      <td>0</td>\n",
       "    </tr>\n",
       "  </tbody>\n",
       "</table>\n",
       "<p>776 rows × 20 columns</p>\n",
       "</div>"
      ],
      "text/plain": [
       "                                  Wallet Opened  Sign Up Success  \\\n",
       "c8d4d395f6b45f1ddd6ab9f29180f54a              0                0   \n",
       "2467ce8593dd0efe1ce5d4b82263bc5c              0                0   \n",
       "a22abda7a39d747ab674cd13224b375a              3                1   \n",
       "f5988bc8ddb1a5733677d81109fe453b              2                0   \n",
       "41ef8ce6c7e3ce0869d791dc17a3d161              2                0   \n",
       "...                                         ...              ...   \n",
       "d2c8e9fd8addde95536d13f61cbfb1cc              0                1   \n",
       "387c88f25e204376acf003420663fef5              1                1   \n",
       "6ebd67ba68c521c86d797a1c439d6de9              0                1   \n",
       "833489856a3cc8840d47a2c1cadda36d              0                1   \n",
       "679eba26c4e75e0afb178360becfa21b              0                1   \n",
       "\n",
       "                                  Add Vehicle Success  \\\n",
       "c8d4d395f6b45f1ddd6ab9f29180f54a                    0   \n",
       "2467ce8593dd0efe1ce5d4b82263bc5c                    3   \n",
       "a22abda7a39d747ab674cd13224b375a                    1   \n",
       "f5988bc8ddb1a5733677d81109fe453b                    0   \n",
       "41ef8ce6c7e3ce0869d791dc17a3d161                    0   \n",
       "...                                               ...   \n",
       "d2c8e9fd8addde95536d13f61cbfb1cc                    1   \n",
       "387c88f25e204376acf003420663fef5                    1   \n",
       "6ebd67ba68c521c86d797a1c439d6de9                    1   \n",
       "833489856a3cc8840d47a2c1cadda36d                    1   \n",
       "679eba26c4e75e0afb178360becfa21b                    1   \n",
       "\n",
       "                                  Account Setup Profile Skip  \\\n",
       "c8d4d395f6b45f1ddd6ab9f29180f54a                           0   \n",
       "2467ce8593dd0efe1ce5d4b82263bc5c                           0   \n",
       "a22abda7a39d747ab674cd13224b375a                           2   \n",
       "f5988bc8ddb1a5733677d81109fe453b                           0   \n",
       "41ef8ce6c7e3ce0869d791dc17a3d161                           0   \n",
       "...                                                      ...   \n",
       "d2c8e9fd8addde95536d13f61cbfb1cc                           0   \n",
       "387c88f25e204376acf003420663fef5                           0   \n",
       "6ebd67ba68c521c86d797a1c439d6de9                           0   \n",
       "833489856a3cc8840d47a2c1cadda36d                           0   \n",
       "679eba26c4e75e0afb178360becfa21b                           2   \n",
       "\n",
       "                                  Email Confirmation Success  \\\n",
       "c8d4d395f6b45f1ddd6ab9f29180f54a                           0   \n",
       "2467ce8593dd0efe1ce5d4b82263bc5c                           0   \n",
       "a22abda7a39d747ab674cd13224b375a                           0   \n",
       "f5988bc8ddb1a5733677d81109fe453b                           0   \n",
       "41ef8ce6c7e3ce0869d791dc17a3d161                           0   \n",
       "...                                                      ...   \n",
       "d2c8e9fd8addde95536d13f61cbfb1cc                           0   \n",
       "387c88f25e204376acf003420663fef5                           0   \n",
       "6ebd67ba68c521c86d797a1c439d6de9                           0   \n",
       "833489856a3cc8840d47a2c1cadda36d                           0   \n",
       "679eba26c4e75e0afb178360becfa21b                           0   \n",
       "\n",
       "                                  Account History Transaction Details  \\\n",
       "c8d4d395f6b45f1ddd6ab9f29180f54a                                    3   \n",
       "2467ce8593dd0efe1ce5d4b82263bc5c                                    0   \n",
       "a22abda7a39d747ab674cd13224b375a                                    9   \n",
       "f5988bc8ddb1a5733677d81109fe453b                                    0   \n",
       "41ef8ce6c7e3ce0869d791dc17a3d161                                    3   \n",
       "...                                                               ...   \n",
       "d2c8e9fd8addde95536d13f61cbfb1cc                                    0   \n",
       "387c88f25e204376acf003420663fef5                                    1   \n",
       "6ebd67ba68c521c86d797a1c439d6de9                                    0   \n",
       "833489856a3cc8840d47a2c1cadda36d                                    0   \n",
       "679eba26c4e75e0afb178360becfa21b                                    0   \n",
       "\n",
       "                                  Sign Out  Add Vehicle Break  \\\n",
       "c8d4d395f6b45f1ddd6ab9f29180f54a         1                  0   \n",
       "2467ce8593dd0efe1ce5d4b82263bc5c         1                  0   \n",
       "a22abda7a39d747ab674cd13224b375a         0                  0   \n",
       "f5988bc8ddb1a5733677d81109fe453b         0                  0   \n",
       "41ef8ce6c7e3ce0869d791dc17a3d161         0                  0   \n",
       "...                                    ...                ...   \n",
       "d2c8e9fd8addde95536d13f61cbfb1cc         0                  0   \n",
       "387c88f25e204376acf003420663fef5         0                  0   \n",
       "6ebd67ba68c521c86d797a1c439d6de9         0                  0   \n",
       "833489856a3cc8840d47a2c1cadda36d         0                  0   \n",
       "679eba26c4e75e0afb178360becfa21b         0                  0   \n",
       "\n",
       "                                  Chat Conversation Started  \\\n",
       "c8d4d395f6b45f1ddd6ab9f29180f54a                          0   \n",
       "2467ce8593dd0efe1ce5d4b82263bc5c                          0   \n",
       "a22abda7a39d747ab674cd13224b375a                          0   \n",
       "f5988bc8ddb1a5733677d81109fe453b                          0   \n",
       "41ef8ce6c7e3ce0869d791dc17a3d161                          1   \n",
       "...                                                     ...   \n",
       "d2c8e9fd8addde95536d13f61cbfb1cc                          0   \n",
       "387c88f25e204376acf003420663fef5                          0   \n",
       "6ebd67ba68c521c86d797a1c439d6de9                          0   \n",
       "833489856a3cc8840d47a2c1cadda36d                          0   \n",
       "679eba26c4e75e0afb178360becfa21b                          0   \n",
       "\n",
       "                                  Chat Conversation Opened  Order  \\\n",
       "c8d4d395f6b45f1ddd6ab9f29180f54a                         0     38   \n",
       "2467ce8593dd0efe1ce5d4b82263bc5c                         0      5   \n",
       "a22abda7a39d747ab674cd13224b375a                         0      0   \n",
       "f5988bc8ddb1a5733677d81109fe453b                         0      0   \n",
       "41ef8ce6c7e3ce0869d791dc17a3d161                         3     54   \n",
       "...                                                    ...    ...   \n",
       "d2c8e9fd8addde95536d13f61cbfb1cc                         0      0   \n",
       "387c88f25e204376acf003420663fef5                         0      0   \n",
       "6ebd67ba68c521c86d797a1c439d6de9                         0      0   \n",
       "833489856a3cc8840d47a2c1cadda36d                         0      0   \n",
       "679eba26c4e75e0afb178360becfa21b                         1      0   \n",
       "\n",
       "                                  Add Payment Method Success  \\\n",
       "c8d4d395f6b45f1ddd6ab9f29180f54a                           0   \n",
       "2467ce8593dd0efe1ce5d4b82263bc5c                           1   \n",
       "a22abda7a39d747ab674cd13224b375a                           1   \n",
       "f5988bc8ddb1a5733677d81109fe453b                           0   \n",
       "41ef8ce6c7e3ce0869d791dc17a3d161                           0   \n",
       "...                                                      ...   \n",
       "d2c8e9fd8addde95536d13f61cbfb1cc                           1   \n",
       "387c88f25e204376acf003420663fef5                           1   \n",
       "6ebd67ba68c521c86d797a1c439d6de9                           1   \n",
       "833489856a3cc8840d47a2c1cadda36d                           1   \n",
       "679eba26c4e75e0afb178360becfa21b                           1   \n",
       "\n",
       "                                  Subscription Premium  Calculator View  \\\n",
       "c8d4d395f6b45f1ddd6ab9f29180f54a                     0                0   \n",
       "2467ce8593dd0efe1ce5d4b82263bc5c                     1                0   \n",
       "a22abda7a39d747ab674cd13224b375a                     1                0   \n",
       "f5988bc8ddb1a5733677d81109fe453b                     1                0   \n",
       "41ef8ce6c7e3ce0869d791dc17a3d161                     0                1   \n",
       "...                                                ...              ...   \n",
       "d2c8e9fd8addde95536d13f61cbfb1cc                     1                1   \n",
       "387c88f25e204376acf003420663fef5                     1                0   \n",
       "6ebd67ba68c521c86d797a1c439d6de9                     1                0   \n",
       "833489856a3cc8840d47a2c1cadda36d                     1                0   \n",
       "679eba26c4e75e0afb178360becfa21b                     1                0   \n",
       "\n",
       "                                  Account Setup Skip  \\\n",
       "c8d4d395f6b45f1ddd6ab9f29180f54a                   0   \n",
       "2467ce8593dd0efe1ce5d4b82263bc5c                   0   \n",
       "a22abda7a39d747ab674cd13224b375a                   0   \n",
       "f5988bc8ddb1a5733677d81109fe453b                   0   \n",
       "41ef8ce6c7e3ce0869d791dc17a3d161                   0   \n",
       "...                                              ...   \n",
       "d2c8e9fd8addde95536d13f61cbfb1cc                   0   \n",
       "387c88f25e204376acf003420663fef5                   0   \n",
       "6ebd67ba68c521c86d797a1c439d6de9                   0   \n",
       "833489856a3cc8840d47a2c1cadda36d                   0   \n",
       "679eba26c4e75e0afb178360becfa21b                   0   \n",
       "\n",
       "                                  Add Payment Method Failed  \\\n",
       "c8d4d395f6b45f1ddd6ab9f29180f54a                          0   \n",
       "2467ce8593dd0efe1ce5d4b82263bc5c                          0   \n",
       "a22abda7a39d747ab674cd13224b375a                          0   \n",
       "f5988bc8ddb1a5733677d81109fe453b                          0   \n",
       "41ef8ce6c7e3ce0869d791dc17a3d161                          0   \n",
       "...                                                     ...   \n",
       "d2c8e9fd8addde95536d13f61cbfb1cc                          0   \n",
       "387c88f25e204376acf003420663fef5                          0   \n",
       "6ebd67ba68c521c86d797a1c439d6de9                          0   \n",
       "833489856a3cc8840d47a2c1cadda36d                          0   \n",
       "679eba26c4e75e0afb178360becfa21b                          0   \n",
       "\n",
       "                                  Transaction Refund  Calculator Used  \\\n",
       "c8d4d395f6b45f1ddd6ab9f29180f54a                   0                0   \n",
       "2467ce8593dd0efe1ce5d4b82263bc5c                   0                0   \n",
       "a22abda7a39d747ab674cd13224b375a                   0                0   \n",
       "f5988bc8ddb1a5733677d81109fe453b                   0                0   \n",
       "41ef8ce6c7e3ce0869d791dc17a3d161                   0                0   \n",
       "...                                              ...              ...   \n",
       "d2c8e9fd8addde95536d13f61cbfb1cc                   0                0   \n",
       "387c88f25e204376acf003420663fef5                   0                0   \n",
       "6ebd67ba68c521c86d797a1c439d6de9                   0                0   \n",
       "833489856a3cc8840d47a2c1cadda36d                   0                0   \n",
       "679eba26c4e75e0afb178360becfa21b                   0                0   \n",
       "\n",
       "                                  Subscription Premium Renew  target  \n",
       "c8d4d395f6b45f1ddd6ab9f29180f54a                           1       0  \n",
       "2467ce8593dd0efe1ce5d4b82263bc5c                           0       0  \n",
       "a22abda7a39d747ab674cd13224b375a                           0       1  \n",
       "f5988bc8ddb1a5733677d81109fe453b                           1       0  \n",
       "41ef8ce6c7e3ce0869d791dc17a3d161                           1       1  \n",
       "...                                                      ...     ...  \n",
       "d2c8e9fd8addde95536d13f61cbfb1cc                           0       0  \n",
       "387c88f25e204376acf003420663fef5                           0       1  \n",
       "6ebd67ba68c521c86d797a1c439d6de9                           0       0  \n",
       "833489856a3cc8840d47a2c1cadda36d                           0       0  \n",
       "679eba26c4e75e0afb178360becfa21b                           0       0  \n",
       "\n",
       "[776 rows x 20 columns]"
      ]
     },
     "execution_count": 15,
     "metadata": {},
     "output_type": "execute_result"
    }
   ],
   "source": [
    "user_info"
   ]
  },
  {
   "cell_type": "code",
   "execution_count": 16,
   "id": "81a21625",
   "metadata": {
    "id": "81a21625"
   },
   "outputs": [],
   "source": [
    "def display_correlations(corrs, title):\n",
    "    corrs.sort_values(inplace=True)\n",
    "    plt.figure(figsize=(10, 5 * len(corrs) // 10))\n",
    "    plt.title(title)\n",
    "    plt.barh(np.arange(len(corrs), 0, -1), corrs)\n",
    "    plt.yticks(np.arange(len(corrs), 0, -1), corrs.index)\n",
    "    plt.show()"
   ]
  },
  {
   "cell_type": "code",
   "execution_count": 17,
   "id": "8114cf68",
   "metadata": {
    "id": "8114cf68"
   },
   "outputs": [],
   "source": [
    "correlations = pd.Series(index=events, dtype='float16')\n",
    "for event in events:\n",
    "    correlations[event] = pearsonr(user_info[event], user_info['target'])[0]"
   ]
  },
  {
   "cell_type": "code",
   "execution_count": 18,
   "id": "ab7626d0",
   "metadata": {
    "id": "ab7626d0",
    "outputId": "c9665830-9bbf-4c54-8509-f66289b91ad3"
   },
   "outputs": [
    {
     "data": {
      "image/png": "[encoded data removed]",
      "text/plain": [
       "<Figure size 1000x900 with 1 Axes>"
      ]
     },
     "metadata": {},
     "output_type": "display_data"
    }
   ],
   "source": [
    "display_correlations(correlations, f'Correlations with target')"
   ]
  },
  {
   "cell_type": "markdown",
   "id": "d95d4645",
   "metadata": {
    "id": "d95d4645"
   },
   "source": [
    "We can see that the events\n",
    "\n",
    "$\\textit{Subscription Premium Renew}$\n",
    "\n",
    "$\\textit{Order}$\n",
    "\n",
    "have a correlation that is significantly lower than 0, so these events decrease the probability that a user will cancel the subscription.\n",
    "\n",
    "On the other hand, these events:\n",
    "\n",
    "$\\textit{Chat Conversation Started}$\n",
    "\n",
    "$\\textit{Chat Conversation Opened}$\n",
    "\n",
    "$\\textit{Transaction Refund}$\n",
    "\n",
    "$\\textit{Account Profile Skip}$\n",
    "\n",
    "have a correlation that is significantly higher than 0, so these events increase the probability that a user will cancel the subscription"
   ]
  },
  {
   "cell_type": "markdown",
   "id": "90cb1064",
   "metadata": {
    "id": "90cb1064"
   },
   "source": [
    "# Now let's analyze how the $\\textit{user_state}$ is related to cancelling the subscription \n"
   ]
  },
  {
   "cell_type": "code",
   "execution_count": 19,
   "id": "451e0adf",
   "metadata": {
    "id": "451e0adf",
    "outputId": "231af869-3b44-4535-81af-88ea8459b10d"
   },
   "outputs": [
    {
     "name": "stdout",
     "output_type": "stream",
     "text": [
      "All users have only 1 state\n"
     ]
    }
   ],
   "source": [
    "# check if all users have only 1 state\n",
    "id_count = 0\n",
    "for id in ids:\n",
    "    if data[data['userid'] == id]['user_state'].nunique() > 1:\n",
    "        id_count += 1\n",
    "        print(id, 'has more than 1 state')\n",
    "if id_count == 0:\n",
    "    print('All users have only 1 state')"
   ]
  },
  {
   "cell_type": "code",
   "execution_count": 20,
   "id": "3afa5f28",
   "metadata": {
    "id": "3afa5f28"
   },
   "outputs": [],
   "source": [
    "for id in ids:\n",
    "    user_info.loc[id, 'user_state'] = list(data[data['userid'] == id]['user_state'])[0]"
   ]
  },
  {
   "cell_type": "code",
   "execution_count": 21,
   "id": "9dfbbbb9",
   "metadata": {
    "id": "9dfbbbb9",
    "outputId": "008736fc-4d63-42ef-8590-677d04c23be2"
   },
   "outputs": [
    {
     "data": {
      "text/plain": [
       "CA    335\n",
       "TX    185\n",
       "FL     61\n",
       "IL     40\n",
       "NY     32\n",
       "VA     25\n",
       "NJ     17\n",
       "MD      9\n",
       "MA      8\n",
       "PA      7\n",
       "OK      6\n",
       "IN      6\n",
       "AZ      5\n",
       "CT      4\n",
       "NH      3\n",
       "WI      3\n",
       "NC      3\n",
       "OH      3\n",
       "DC      3\n",
       "IA      2\n",
       "KY      2\n",
       "AR      2\n",
       "CO      2\n",
       "MI      1\n",
       "AL      1\n",
       "UT      1\n",
       "DE      1\n",
       "GA      1\n",
       "NM      1\n",
       "TN      1\n",
       "KS      1\n",
       "NV      1\n",
       "VT      1\n",
       "WV      1\n",
       "OR      1\n",
       "MT      1\n",
       "Name: user_state, dtype: int64"
      ]
     },
     "execution_count": 21,
     "metadata": {},
     "output_type": "execute_result"
    }
   ],
   "source": [
    "# let's take a look at all states and frequencies of their occurrence in the data\n",
    "user_info['user_state'].value_counts()"
   ]
  },
  {
   "cell_type": "markdown",
   "id": "fcdf0a56",
   "metadata": {
    "id": "fcdf0a56"
   },
   "source": [
    "We will analyse all states that have at least 40 users assigning all the others states to the category 'Other'. Users with absent states will be assigned to the 'Absent' category"
   ]
  },
  {
   "cell_type": "code",
   "execution_count": 22,
   "id": "891a2040",
   "metadata": {
    "id": "891a2040"
   },
   "outputs": [],
   "source": [
    "big_states = []\n",
    "for state in user_info['user_state'].unique():\n",
    "    if (user_info['user_state'] == state).sum() >= 40:\n",
    "        big_states.append(state)"
   ]
  },
  {
   "cell_type": "code",
   "execution_count": 23,
   "id": "f3e7acf2",
   "metadata": {
    "id": "f3e7acf2"
   },
   "outputs": [],
   "source": [
    "for id in ids:\n",
    "    if user_info.loc[id, 'user_state'] not in big_states:\n",
    "        user_info.loc[id, 'user_state'] = 'Other'"
   ]
  },
  {
   "cell_type": "code",
   "execution_count": 24,
   "id": "90905304",
   "metadata": {
    "id": "90905304"
   },
   "outputs": [],
   "source": [
    "# replace NaN values with the 'Other' category \n",
    "user_info['user_state'] = user_info['user_state'].fillna('Other')"
   ]
  },
  {
   "cell_type": "code",
   "execution_count": 25,
   "id": "ce9a6b84",
   "metadata": {
    "id": "ce9a6b84",
    "outputId": "8f6d692b-0ba5-440b-c44f-b5eb6387854f"
   },
   "outputs": [
    {
     "name": "stdout",
     "output_type": "stream",
     "text": [
      "CA       335\n",
      "TX       185\n",
      "Other    155\n",
      "FL        61\n",
      "IL        40\n",
      "Name: user_state, dtype: int64\n"
     ]
    },
    {
     "data": {
      "image/png": "[encoded data removed]",
      "text/plain": [
       "<Figure size 640x480 with 1 Axes>"
      ]
     },
     "metadata": {},
     "output_type": "display_data"
    }
   ],
   "source": [
    "print(user_info['user_state'].value_counts())\n",
    "plt.title('Average cancelation rate for states')\n",
    "plt.bar(user_info['user_state'].unique(), user_info.groupby('user_state')['target'].mean())\n",
    "plt.show()"
   ]
  },
  {
   "cell_type": "markdown",
   "id": "3dc77e66",
   "metadata": {
    "id": "3dc77e66"
   },
   "source": [
    "From the chart above we can observe that the IL state has significantly lower cancelation rate, whilst Other and TX have slightly lower cancelation rate."
   ]
  },
  {
   "cell_type": "markdown",
   "id": "d19d0b63",
   "metadata": {
    "id": "d19d0b63"
   },
   "source": [
    "# Now let's analyse, how the $\\textit{device_manufacture}$ is related to cancelling the subscription "
   ]
  },
  {
   "cell_type": "code",
   "execution_count": 26,
   "id": "e6913d2a",
   "metadata": {
    "colab": {
     "base_uri": "https://localhost:8080/",
     "height": 232
    },
    "id": "e6913d2a",
    "outputId": "fdc54328-0203-46e2-a95c-46c8d77fbd1f"
   },
   "outputs": [
    {
     "name": "stdout",
     "output_type": "stream",
     "text": [
      "28368284a145474b2cc4961349bffcf3 has more than 1 device_manufacture\n",
      "2a2003f6836b4720906cbae8893faec9 has more than 1 device_manufacture\n",
      "107eea821b823c2218cc2f44fa7746d9 has more than 1 device_manufacture\n",
      "46c1d5ea297bd502e2d7f9dba6056bdd has more than 1 device_manufacture\n",
      "8cf789a4f14413c7ac58d3b6e8442cd0 has more than 1 device_manufacture\n",
      "604062fd35365e259606987533396503 has more than 1 device_manufacture\n"
     ]
    }
   ],
   "source": [
    "# check if all users have only 1 device_manufacture\n",
    "id_count = 0\n",
    "for id in ids:\n",
    "    if data[data['userid'] == id]['device_manufacture'].nunique() > 1:\n",
    "        id_count += 1\n",
    "        print(id, 'has more than 1 device_manufacture')\n",
    "if id_count == 0:\n",
    "    print('All users have only 1 device_manufacture')"
   ]
  },
  {
   "cell_type": "markdown",
   "id": "fbc3976e",
   "metadata": {
    "id": "fbc3976e"
   },
   "source": [
    "As the majority of the users had the same device_manufacture during 2022 we will redefine the user's device_manufacture as such that is encountered the most frequently through the event sequence.\n"
   ]
  },
  {
   "cell_type": "code",
   "execution_count": 27,
   "id": "9917b0dd",
   "metadata": {
    "id": "9917b0dd"
   },
   "outputs": [],
   "source": [
    "for id in ids:\n",
    "    user_info.loc[id, 'device_manufacture'] = mode(list(data[data['userid'] == id]['device_manufacture']))"
   ]
  },
  {
   "cell_type": "code",
   "execution_count": 28,
   "id": "6653ac76",
   "metadata": {
    "id": "6653ac76",
    "outputId": "02881b7f-a6e5-4099-a6ec-681bf92f0f95"
   },
   "outputs": [
    {
     "data": {
      "text/plain": [
       "Apple         394\n",
       "samsung       170\n",
       "motorola       24\n",
       "LGE            15\n",
       "Google         11\n",
       "OnePlus         7\n",
       "Wingtech        4\n",
       "HMD Global      3\n",
       "FIH             2\n",
       "BLU             2\n",
       "TCL             1\n",
       "HUAWEI          1\n",
       "vsmart          1\n",
       "Name: device_manufacture, dtype: int64"
      ]
     },
     "execution_count": 28,
     "metadata": {},
     "output_type": "execute_result"
    }
   ],
   "source": [
    "# let's take a look on all manufactures and their frequencies\n",
    "user_info['device_manufacture'].value_counts()"
   ]
  },
  {
   "cell_type": "markdown",
   "id": "dc6060c1",
   "metadata": {
    "id": "dc6060c1"
   },
   "source": [
    "Since only Apple and Samsung have many users, we will divide all users in three categories: Apple, Samsung and Other"
   ]
  },
  {
   "cell_type": "code",
   "execution_count": 29,
   "id": "4965904e",
   "metadata": {
    "id": "4965904e"
   },
   "outputs": [],
   "source": [
    "for id in ids:\n",
    "    if user_info.loc[id, 'device_manufacture'] not in ['Apple', 'samsung']:\n",
    "        user_info.loc[id, 'device_manufacture'] = 'Other'"
   ]
  },
  {
   "cell_type": "code",
   "execution_count": 30,
   "id": "c53fa4da",
   "metadata": {
    "colab": {
     "base_uri": "https://localhost:8080/",
     "height": 181
    },
    "id": "c53fa4da",
    "outputId": "45aed367-bfea-4681-99f7-9408796cb04a"
   },
   "outputs": [],
   "source": [
    "# fill cells with NaN values with the category 'Other'\n",
    "user_info['device_manufacture'] = user_info['device_manufacture'].fillna('Other')"
   ]
  },
  {
   "cell_type": "code",
   "execution_count": 31,
   "id": "e56b1978",
   "metadata": {
    "id": "e56b1978",
    "outputId": "9a289eda-a304-4fec-c4ac-c2e8d2f3479e"
   },
   "outputs": [
    {
     "name": "stdout",
     "output_type": "stream",
     "text": [
      "Apple      394\n",
      "Other      212\n",
      "samsung    170\n",
      "Name: device_manufacture, dtype: int64\n"
     ]
    },
    {
     "data": {
      "image/png": "[encoded data removed]",
      "text/plain": [
       "<Figure size 640x480 with 1 Axes>"
      ]
     },
     "metadata": {},
     "output_type": "display_data"
    }
   ],
   "source": [
    "print(user_info['device_manufacture'].value_counts())\n",
    "plt.title('Average cancelation rate for manufactures')\n",
    "plt.bar(user_info.groupby('device_manufacture')['target'].mean().index, user_info.groupby('device_manufacture')['target'].mean())\n",
    "plt.show()"
   ]
  },
  {
   "cell_type": "markdown",
   "id": "690e8b0c",
   "metadata": {
    "id": "690e8b0c"
   },
   "source": [
    "From the chart above we can observe significantly lower cancelation rate for manufactures of the 'Other' category. Also it is worth to mention, that we have many different device_models, so we won't analyse them"
   ]
  },
  {
   "cell_type": "markdown",
   "id": "fe1fde51",
   "metadata": {
    "id": "fe1fde51"
   },
   "source": [
    "# Now let's analyse, how the $\\textit{event_platform}$ is related to cancelling the subscription "
   ]
  },
  {
   "cell_type": "code",
   "execution_count": 32,
   "id": "7f3bf3b4",
   "metadata": {
    "id": "7f3bf3b4",
    "outputId": "ed44d833-54bf-4aaf-a5be-e1c76ed74e79"
   },
   "outputs": [
    {
     "data": {
      "text/plain": [
       "ios          9545\n",
       "outofband    6230\n",
       "android      6216\n",
       "Name: event_platform, dtype: int64"
      ]
     },
     "execution_count": 32,
     "metadata": {},
     "output_type": "execute_result"
    }
   ],
   "source": [
    "# let's take a look on all manufactures and their frequencies\n",
    "data['event_platform'].value_counts()"
   ]
  },
  {
   "cell_type": "markdown",
   "id": "3318ddad",
   "metadata": {
    "id": "3318ddad"
   },
   "source": [
    "For each user we will calculate, how many corresponding events occured on each platform"
   ]
  },
  {
   "cell_type": "code",
   "execution_count": 33,
   "id": "841487a8",
   "metadata": {
    "id": "841487a8"
   },
   "outputs": [],
   "source": [
    "platforms = data['event_platform'].unique()\n",
    "for platform in platforms:\n",
    "    for id in ids:\n",
    "        event_sequence = list(data[data['userid'] == id]['event_name'])\n",
    "        event_platform = list(data[data['userid'] == id]['event_platform'])\n",
    "        # we only take a time series before the subscription cancelation event\n",
    "        if 'Subscription Premium Cancel' in event_sequence:\n",
    "            event_sequence = event_sequence[:event_sequence.index('Subscription Premium Cancel') + 1]\n",
    "            event_splatform = event_platform[:event_sequence.index('Subscription Premium Cancel') + 1]\n",
    "        for platform in platforms:\n",
    "            user_info.loc[id, platform] = event_platform.count(platform)"
   ]
  },
  {
   "cell_type": "code",
   "execution_count": 34,
   "id": "a2c694e0",
   "metadata": {
    "id": "a2c694e0"
   },
   "outputs": [],
   "source": [
    "platform_correlations = pd.Series(index=platforms, dtype='float16')\n",
    "for platform in platforms:\n",
    "    platform_correlations[platform] = pearsonr(user_info[platform], user_info['target'])[0]"
   ]
  },
  {
   "cell_type": "code",
   "execution_count": 35,
   "id": "626945c4",
   "metadata": {
    "id": "626945c4",
    "outputId": "5bb0478c-375f-42f7-d673-fc282e26bbbf"
   },
   "outputs": [
    {
     "data": {
      "image/png": "[encoded data removed]",
      "text/plain": [
       "<Figure size 1000x100 with 1 Axes>"
      ]
     },
     "metadata": {},
     "output_type": "display_data"
    }
   ],
   "source": [
    "display_correlations(platform_correlations, f'Correlations with target')"
   ]
  },
  {
   "cell_type": "markdown",
   "id": "c702441b",
   "metadata": {
    "id": "c702441b"
   },
   "source": [
    "Here we can see similar sutiation to device_manufacture"
   ]
  },
  {
   "cell_type": "markdown",
   "id": "LaIEgJYUBmzb",
   "metadata": {
    "id": "LaIEgJYUBmzb"
   },
   "source": [
    "But, in fact, it's significant to mention that in our case, we need more additional information about the company for states analysis and the application for the analysis of user churn"
   ]
  },
  {
   "cell_type": "markdown",
   "id": "2de50d8a",
   "metadata": {
    "id": "J7zAjbkcCD1S"
   },
   "source": [
    "# Finally, now we analyse $\\textit{event_attributes}$ for each event"
   ]
  },
  {
   "cell_type": "markdown",
   "id": "76d754e4",
   "metadata": {},
   "source": [
    "Here is list of all event attributes (which appear at least 100 times) with treir frequencies:"
   ]
  },
  {
   "cell_type": "code",
   "execution_count": 36,
   "id": "0d181532",
   "metadata": {},
   "outputs": [
    {
     "name": "stdout",
     "output_type": "stream",
     "text": [
      "Sign Up Success\n",
      "['Method']\n",
      "Google      1504\n",
      "Email       1017\n",
      "Apple        586\n",
      "Facebook     222\n",
      "Name: Method, dtype: int64\n",
      "---------------------------------------------------\n",
      "Add Vehicle Success\n",
      "['Make', 'Model', 'Color', 'Year', 'Temporary', 'Start Date', 'End Date', 'Rental state', 'Rental State']\n",
      "Toyota          302\n",
      "Honda           228\n",
      "Ford            198\n",
      "Chevrolet       180\n",
      "Nissan          175\n",
      "               ... \n",
      "freightliner      1\n",
      "Take              1\n",
      "Ford F 550        1\n",
      "Frieghtliner      1\n",
      "Hino              1\n",
      "Name: Make, Length: 68, dtype: int64\n",
      "Camry             78\n",
      "Accord            72\n",
      "Civic             61\n",
      "Corolla           46\n",
      "Altima            43\n",
      "                  ..\n",
      "moving truck       1\n",
      "G Convertible      1\n",
      "600LT              1\n",
      "F-150 Heritage     1\n",
      "Hino               1\n",
      "Name: Model, Length: 434, dtype: int64\n",
      "White     431\n",
      "Black     408\n",
      "Gray      315\n",
      "Silver    276\n",
      "Blue      189\n",
      "Red       142\n",
      "Other      62\n",
      "Green      29\n",
      "Brown      28\n",
      "Beige      25\n",
      "Orange      8\n",
      "Gold        8\n",
      "Yellow      2\n",
      "Name: Color, dtype: int64\n",
      "2021    185\n",
      "2019    169\n",
      "2018    154\n",
      "2017    151\n",
      "2020    149\n",
      "2015    134\n",
      "2016    106\n",
      "2014    102\n",
      "2011     91\n",
      "2022     88\n",
      "2013     84\n",
      "2012     81\n",
      "2010     59\n",
      "2008     59\n",
      "2007     51\n",
      "2006     42\n",
      "2009     40\n",
      "2005     33\n",
      "2004     31\n",
      "2003     23\n",
      "2002     22\n",
      "2000     18\n",
      "2001     12\n",
      "1999     11\n",
      "1993      5\n",
      "1991      4\n",
      "1995      4\n",
      "1996      3\n",
      "1997      3\n",
      "1998      2\n",
      "2023      2\n",
      "1994      2\n",
      "1985      1\n",
      "1983      1\n",
      "1990      1\n",
      "Name: Year, dtype: int64\n",
      "false    1817\n",
      "true      106\n",
      "Name: Temporary, dtype: int64\n",
      "                648\n",
      "Feb 17, 2022      3\n",
      "11/03/2022        3\n",
      "13/03/2022        2\n",
      "Feb 23, 2022      2\n",
      "               ... \n",
      "Mar 15, 2022      1\n",
      "16/03/2022        1\n",
      "23/01/2022        1\n",
      "Jan 23, 2022      1\n",
      "Apr 16, 2022      1\n",
      "Name: Start Date, Length: 78, dtype: int64\n",
      "                648\n",
      "09/03/2022        3\n",
      "06/03/2022        3\n",
      "Apr 10, 2022      3\n",
      "21/02/2022        2\n",
      "               ... \n",
      "14/03/2022        1\n",
      "21/03/2022        1\n",
      "18/03/2022        1\n",
      "16/03/2022        1\n",
      "Apr 27, 2022      1\n",
      "Name: End Date, Length: 81, dtype: int64\n",
      "      141\n",
      "CA      7\n",
      "TX      3\n",
      "Name: Rental state, dtype: int64\n",
      "      501\n",
      "CA     74\n",
      "TX     20\n",
      "OK      2\n",
      "FL      1\n",
      "NJ      1\n",
      "DE      1\n",
      "IL      1\n",
      "KY      1\n",
      "NY      1\n",
      "Name: Rental State, dtype: int64\n",
      "---------------------------------------------------\n",
      "Account Setup Profile Skip\n",
      "['Screen']\n",
      "Address                231\n",
      "Phone number           140\n",
      "Phone Number            54\n",
      "Name                    40\n",
      "Address details         28\n",
      "Address Details          3\n",
      "Phone number exists      2\n",
      "Name: Screen, dtype: int64\n",
      "---------------------------------------------------\n",
      "Email Confirmation Success\n",
      "['Required']\n",
      "true    547\n",
      "Name: Required, dtype: int64\n",
      "---------------------------------------------------\n",
      "Account History Transaction Details\n",
      "['Type', 'Navigated From', 'Status']\n",
      "Auto Payment             514\n",
      "Pro Plan Subscription    449\n",
      "Order                    345\n",
      "Violation Transaction    225\n",
      "Forced Payment            44\n",
      "Manual Payment            21\n",
      "Refund Transaction         8\n",
      "Promotion                  1\n",
      "Name: Type, dtype: int64\n",
      "account_history    844\n",
      "Account History    763\n",
      "Name: Navigated From, dtype: int64\n",
      "Paid       769\n",
      "Pending    409\n",
      "Overdue     50\n",
      "Name: Status, dtype: int64\n",
      "---------------------------------------------------\n",
      "Sign Out\n",
      "['Type']\n",
      "Manual    354\n",
      "Auto      241\n",
      "Name: Type, dtype: int64\n",
      "---------------------------------------------------\n",
      "Chat Conversation Opened\n",
      "['From', 'Transaction type', 'Transaction Type']\n",
      "Menu                   1103\n",
      "Transaction Details     173\n",
      "Dashboard               147\n",
      "Deeplink                 20\n",
      "                         16\n",
      "Name: From, dtype: int64\n",
      "                         332\n",
      "AutoPayment               62\n",
      "Pro Plan Subscription     50\n",
      "OrderAlert                30\n",
      "OrderPayment              18\n",
      "ForcedPayment              7\n",
      "ManualPayment              5\n",
      "Name: Transaction type, dtype: int64\n",
      "                         1\n",
      "Pro Plan Subscription    1\n",
      "Name: Transaction Type, dtype: int64\n",
      "---------------------------------------------------\n",
      "Order\n",
      "['Premium Membership']\n",
      "True     4357\n",
      "False     488\n",
      "Name: Premium Membership, dtype: int64\n",
      "---------------------------------------------------\n",
      "Add Payment Method Success\n",
      "['Payment Method', 'Tokenized Pay', 'Promo code']\n",
      "Debit     534\n",
      "Credit    387\n",
      "PayPal     86\n",
      "Venmo      31\n",
      "Name: Payment Method, dtype: int64\n",
      "Apple Pay     300\n",
      "              260\n",
      "Google Pay    118\n",
      "Name: Tokenized Pay, dtype: int64\n",
      "                  680\n",
      "GRIDWISE            5\n",
      "INFLUENCER2021      3\n",
      "TST2022             3\n",
      "VEHICLEVIRGINS      3\n",
      "LUCKYDAY            1\n",
      "Name: Promo code, dtype: int64\n",
      "---------------------------------------------------\n",
      "Subscription Premium\n",
      "['Start Date', 'Renewal Date', 'Membership Type']\n",
      "2022-03-19    20\n",
      "2022-03-11    18\n",
      "2022-02-24    18\n",
      "2022-02-19    17\n",
      "2022-03-05    15\n",
      "              ..\n",
      "2022-01-27     2\n",
      "2022-01-29     2\n",
      "2022-01-31     2\n",
      "2022-02-06     2\n",
      "2022-01-28     1\n",
      "Name: Start Date, Length: 91, dtype: int64\n",
      "2022-04-20    20\n",
      "2022-03-25    18\n",
      "2022-04-12    18\n",
      "2022-03-20    17\n",
      "2022-04-06    15\n",
      "              ..\n",
      "2022-03-11     3\n",
      "2022-03-23     3\n",
      "2022-03-02     2\n",
      "2022-03-07     2\n",
      "2022-02-28     2\n",
      "Name: Renewal Date, Length: 88, dtype: int64\n",
      "Monthly    711\n",
      "Name: Membership Type, dtype: int64\n",
      "---------------------------------------------------\n",
      "Add Payment Method Failed\n",
      "['Error Code', 'Error Message', 'Payment Method', 'Tokenized Pay']\n",
      "ERROR-16010    299\n",
      "ERROR-NaN10     35\n",
      "Name: Error Code, dtype: int64\n",
      "Card is debit but credit is required.                                           299\n",
      "Payment method failed verification.                                              29\n",
      "CVV must be 4 digits for American Express and 3 digits for other card types.      5\n",
      "Postal code can only contain letters, numbers, spaces, and hyphens.               1\n",
      "Name: Error Message, dtype: int64\n",
      "Credit Card    311\n",
      "Google Pay      23\n",
      "Name: Payment Method, dtype: int64\n",
      "              90\n",
      "Apple Pay     90\n",
      "Google Pay    23\n",
      "Name: Tokenized Pay, dtype: int64\n",
      "---------------------------------------------------\n",
      "Transaction Refund\n",
      "['Id', 'Amount']\n",
      "708ee8f2012042b121be7dcdd6df256a    1\n",
      "330bd7a52a5cbb370f237a59aef8a48a    1\n",
      "681a9a27035ed8fb6baafd419e06bbf2    1\n",
      "ae886bef41f1bee1fcb9b9d21453e1bd    1\n",
      "6928758f7c8cf5c09edb72a7e3ca86f4    1\n",
      "                                   ..\n",
      "18c4aa8e314644d3bfd5a4ee4329c23d    1\n",
      "ce785427f4b3c2a038bbc18e76cec6e1    1\n",
      "5ed652314b516e5cb96e72a484106ff9    1\n",
      "8a53f0da2d0e0f5f579a5c97c7cf478d    1\n",
      "2e47bf350f766c32d3ff2bed4e90e7bb    1\n",
      "Name: Id, Length: 102, dtype: int64\n",
      "-20       37\n",
      "-10       32\n",
      "-50        8\n",
      "-24.29     4\n",
      "-27.99     2\n",
      "-18.01     1\n",
      "-100       1\n",
      "-22.73     1\n",
      "-8.14      1\n",
      "-34.79     1\n",
      "-15.94     1\n",
      "-18.35     1\n",
      "-6.17      1\n",
      "-40        1\n",
      "-80        1\n",
      "-8.78      1\n",
      "-14.29     1\n",
      "-9.99      1\n",
      "-8.01      1\n",
      "-10.87     1\n",
      "-16.62     1\n",
      "-6.67      1\n",
      "-0.96      1\n",
      "-5.26      1\n",
      "Name: Amount, dtype: int64\n",
      "---------------------------------------------------\n",
      "Calculator Used\n",
      "['Google Map Installed', 'Selected Route Type']\n",
      "true     25\n",
      "false     1\n",
      "Name: Google Map Installed, dtype: int64\n",
      "One         20\n",
      "Fastest      4\n",
      "Cheapest     2\n",
      "Name: Selected Route Type, dtype: int64\n",
      "---------------------------------------------------\n",
      "Subscription Premium Renew\n",
      "['Start Date', 'Renewal Date', 'Membership Type']\n",
      "2022-03-22    12\n",
      "2022-04-12    11\n",
      "2022-04-05     9\n",
      "2022-03-05     8\n",
      "2022-03-19     8\n",
      "              ..\n",
      "2022-02-20     2\n",
      "2022-02-06     2\n",
      "2022-03-27     1\n",
      "2022-02-15     1\n",
      "2022-02-01     1\n",
      "Name: Start Date, Length: 71, dtype: int64\n",
      "2022-05-12    10\n",
      "2022-05-05     9\n",
      "2022-04-22     8\n",
      "2022-04-19     7\n",
      "2022-05-07     7\n",
      "              ..\n",
      "2022-04-27     1\n",
      "2022-03-02     1\n",
      "2023-03-28     1\n",
      "2022-03-15     1\n",
      "2022-03-01     1\n",
      "Name: Renewal Date, Length: 119, dtype: int64\n",
      "Monthly    200\n",
      "Yearly     110\n",
      "Name: Membership Type, dtype: int64\n",
      "---------------------------------------------------\n"
     ]
    }
   ],
   "source": [
    "for event in events:\n",
    "    attributes = data[data['event_name'] == event]['event_attributes'].apply(json.loads)\n",
    "    df_attributes = pd.DataFrame(index=attributes.index, data=attributes.to_list())\n",
    "    if df_attributes.shape[0] >= 100 and df_attributes.shape[1] > 0:\n",
    "        print(event)\n",
    "        print(list(df_attributes.columns))\n",
    "        for attribute in df_attributes.columns:\n",
    "            \n",
    "            print(df_attributes[attribute].value_counts())\n",
    "        print('---------------------------------------------------')\n",
    " "
   ]
  },
  {
   "cell_type": "markdown",
   "id": "af8ce6e5",
   "metadata": {},
   "source": [
    "Since most of this attributes don't have much information (as an example, color of a vehicle), we decide to pick several attributes and check their impact on target"
   ]
  },
  {
   "cell_type": "code",
   "execution_count": 37,
   "id": "09164360",
   "metadata": {},
   "outputs": [],
   "source": [
    "# key - event, value - attribute\n",
    "split_events = {'Add Vehicle Success': 'Temporary',\n",
    "                'Subscription Premium Renew': 'Membership Type',\n",
    "               'Sign Out': 'Type',\n",
    "               'Order': 'Premium Membership',\n",
    "                'Add Payment Method Success': 'Payment Method'}"
   ]
  },
  {
   "cell_type": "markdown",
   "id": "5db6ae60",
   "metadata": {},
   "source": [
    "For each attribute we will split event for each possible value of its attribute and calculate correlations for all of them.\n",
    "At first, let's update all events in new column upd_event_name"
   ]
  },
  {
   "cell_type": "code",
   "execution_count": 38,
   "id": "0c69fab2",
   "metadata": {},
   "outputs": [],
   "source": [
    "attributes_values = {}\n",
    "attributes_events = []\n",
    "data['upd_event_name'] = data['event_name']\n",
    "for event in split_events:\n",
    "    attribute = split_events[event]\n",
    "    jsons = data[data['event_name'] == event]['event_attributes'].apply(json.loads)\n",
    "    df_attributes = pd.DataFrame(data=jsons.to_list(), index=jsons.index)\n",
    "    attributes_values[attribute] = []\n",
    "    for att_type in df_attributes[attribute].unique():\n",
    "        attributes_values[attribute].append(att_type)\n",
    "        if att_type == att_type:\n",
    "            indexes = df_attributes[df_attributes[attribute] == att_type].index\n",
    "            data.loc[indexes, 'upd_event_name'] = f'{event}_{attribute}={att_type}'\n",
    "            attributes_events.append(f'{event}_{attribute}={att_type}')"
   ]
  },
  {
   "cell_type": "code",
   "execution_count": 39,
   "id": "23305ae4",
   "metadata": {},
   "outputs": [
    {
     "data": {
      "text/plain": [
       "{'Temporary': ['false', 'true'],\n",
       " 'Membership Type': ['Monthly', 'Yearly'],\n",
       " 'Type': ['Manual', 'Auto'],\n",
       " 'Premium Membership': ['True', 'False'],\n",
       " 'Payment Method': ['PayPal', 'Debit', 'Credit', 'Venmo']}"
      ]
     },
     "execution_count": 39,
     "metadata": {},
     "output_type": "execute_result"
    }
   ],
   "source": [
    "attributes_values"
   ]
  },
  {
   "cell_type": "code",
   "execution_count": 42,
   "id": "0594accc",
   "metadata": {},
   "outputs": [
    {
     "data": {
      "image/png": "[encoded data removed]",
      "text/plain": [
       "<Figure size 1000x100 with 1 Axes>"
      ]
     },
     "metadata": {},
     "output_type": "display_data"
    },
    {
     "data": {
      "image/png": "[encoded data removed]",
      "text/plain": [
       "<Figure size 1000x100 with 1 Axes>"
      ]
     },
     "metadata": {},
     "output_type": "display_data"
    },
    {
     "data": {
      "image/png": "[encoded data removed]",
      "text/plain": [
       "<Figure size 1000x100 with 1 Axes>"
      ]
     },
     "metadata": {},
     "output_type": "display_data"
    },
    {
     "data": {
      "image/png": "[encoded data removed]",
      "text/plain": [
       "<Figure size 1000x100 with 1 Axes>"
      ]
     },
     "metadata": {},
     "output_type": "display_data"
    },
    {
     "data": {
      "image/png": "[encoded data removed]",
      "text/plain": [
       "<Figure size 1000x200 with 1 Axes>"
      ]
     },
     "metadata": {},
     "output_type": "display_data"
    }
   ],
   "source": [
    "for event in split_events:\n",
    "    attribute = split_events[event]\n",
    "    correlations = pd.Series(dtype='float16')\n",
    "    correlations.loc['all'] = pearsonr(user_info[event], user_info['target'])[0]\n",
    "    for att_type in attributes_values[attribute]:\n",
    "        for id in ids:\n",
    "            event_sequence = list(data[data['userid'] == id]['upd_event_name'])\n",
    "            if 'Subscription Premium Cancel' in event_sequence:\n",
    "                event_sequence = event_sequence[:event_sequence.index('Subscription Premium Cancel') + 1]\n",
    "            user_info.loc[id, f'{event}_{attribute}={att_type}'] = event_sequence.count(f'{event}_{attribute}={att_type}')\n",
    "        correlations.loc[att_type] = pearsonr(user_info[f'{event}_{attribute}={att_type}'], user_info['target'])[0]\n",
    "    display_correlations(correlations, f'Correlation for {attribute} in {event}')  "
   ]
  },
  {
   "cell_type": "markdown",
   "id": "79ebcb4b",
   "metadata": {},
   "source": [
    "# In conclusion, this analysis gives us insights into the general nature of the data and will help us if we want to build a good ML model to predict user churn. Thanks for your attention!"
   ]
  }
 ],
 "metadata": {
  "colab": {
   "provenance": []
  },
  "kernelspec": {
   "display_name": "Python 3 (ipykernel)",
   "language": "python",
   "name": "python3"
  },
  "language_info": {
   "codemirror_mode": {
    "name": "ipython",
    "version": 3
   },
   "file_extension": ".py",
   "mimetype": "text/x-python",
   "name": "python",
   "nbconvert_exporter": "python",
   "pygments_lexer": "ipython3",
   "version": "3.9.13"
  }
 },
 "nbformat": 4,
 "nbformat_minor": 5
}
